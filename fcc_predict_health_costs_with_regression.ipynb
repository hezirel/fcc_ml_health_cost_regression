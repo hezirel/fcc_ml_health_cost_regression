{
  "cells": [
    {
      "cell_type": "code",
      "execution_count": null,
      "metadata": {
        "id": "1rRo8oNqZ-Rj"
      },
      "outputs": [],
      "source": [
        "# Import libraries. You may or may not use all of these.\n",
        "!pip install -q git+https://github.com/tensorflow/docs\n",
        "import matplotlib.pyplot as plt\n",
        "import numpy as np\n",
        "import pandas as pd\n",
        "\n",
        "try:\n",
        "  # %tensorflow_version only exists in Colab.\n",
        "  %tensorflow_version 2.x\n",
        "except Exception:\n",
        "  pass\n",
        "import tensorflow as tf\n",
        "\n",
        "from tensorflow import keras\n",
        "from tensorflow.keras import layers\n",
        "\n",
        "import tensorflow_docs as tfdocs\n",
        "import tensorflow_docs.plots\n",
        "import tensorflow_docs.modeling"
      ]
    },
    {
      "cell_type": "code",
      "execution_count": null,
      "metadata": {
        "id": "CiX2FI4gZtTt"
      },
      "outputs": [],
      "source": [
        "# Import data\n",
        "!rm insurance.csv\n",
        "!wget https://cdn.freecodecamp.org/project-data/health-costs/insurance.csv\n"
      ]
    },
    {
      "cell_type": "code",
      "source": [
        "dataset = pd.read_csv('insurance.csv')\n",
        "dataset.dropna()"
      ],
      "metadata": {
        "id": "KxywZJFCNa5W"
      },
      "execution_count": null,
      "outputs": []
    },
    {
      "cell_type": "code",
      "source": [
        "categorical = dataset.select_dtypes(include=['object', 'category']).columns.tolist()\n",
        "numerical = dataset.select_dtypes(include=['int64', 'float64']).columns.tolist()\n",
        "\n",
        "for col in categorical:\n",
        "    dataset[col] = dataset[col].astype('category').cat.codes\n",
        "\n",
        "\n",
        "print(categorical)\n",
        "print(numerical)"
      ],
      "metadata": {
        "id": "bdIuVF2eGXfX"
      },
      "execution_count": null,
      "outputs": []
    },
    {
      "cell_type": "code",
      "source": [
        "features_list = ['age', 'sex', 'bmi', 'children', 'smoker', 'region']\n",
        "\n",
        "print(features_list)"
      ],
      "metadata": {
        "id": "3NY2C7KSIBLm"
      },
      "execution_count": null,
      "outputs": []
    },
    {
      "cell_type": "code",
      "source": [
        "train_df = dataset.sample(frac=0.8, random_state=0)\n",
        "test_df = dataset.drop(train_df.index)\n",
        "\n",
        "def df_to_ds(src):\n",
        "    features = src.copy()\n",
        "    labels = src.pop('expenses')\n",
        "    return features, labels\n",
        "\n",
        "train_dataset, train_labels = df_to_ds(train_df)\n",
        "test_dataset, test_labels= df_to_ds(test_df)"
      ],
      "metadata": {
        "id": "X8T7Wwl4N8ev"
      },
      "execution_count": null,
      "outputs": []
    },
    {
      "cell_type": "code",
      "source": [
        "normalizer = layers.Normalization(axis=-1)\n",
        "normalizer.adapt(np.array(train_dataset))"
      ],
      "metadata": {
        "id": "oRiVbM4JET04"
      },
      "execution_count": null,
      "outputs": []
    },
    {
      "cell_type": "code",
      "source": [
        "model = keras.Sequential([\n",
        "    normalizer,\n",
        "    layers.Dense(64, activation='relu'),\n",
        "    layers.Dense(32, activation='relu'),\n",
        "    layers.Dense(16, activation='relu'),\n",
        "    layers.Dense(1)\n",
        "    ])\n",
        "\n",
        "model.compile(optimizer=tf.optimizers.Adam(learning_rate=0.001),\n",
        "              loss=tf.keras.losses.MeanAbsoluteError(),\n",
        "              metrics=['mae', 'mse'])\n",
        "\n",
        "model.fit(train_dataset, train_labels, epochs=200, verbose=1)"
      ],
      "metadata": {
        "id": "D91BO4xrEUh9"
      },
      "execution_count": null,
      "outputs": []
    },
    {
      "cell_type": "code",
      "execution_count": null,
      "metadata": {
        "id": "Xe7RXH3N3CWU"
      },
      "outputs": [],
      "source": [
        "# RUN THIS CELL TO TEST YOUR MODEL. DO NOT MODIFY CONTENTS.\n",
        "# Test model by checking how well the model generalizes using the test set.\n",
        "loss, mae, mse = model.evaluate(test_dataset, test_labels, verbose=2)\n",
        "\n",
        "print(\"Testing set Mean Abs Error: {:5.2f} expenses\".format(mae))\n",
        "\n",
        "if mae < 3500:\n",
        "  print(\"You passed the challenge. Great job!\")\n",
        "else:\n",
        "  print(\"The Mean Abs Error must be less than 3500. Keep trying.\")\n",
        "\n",
        "# Plot predictions.\n",
        "test_predictions = model.predict(test_dataset).flatten()\n",
        "\n",
        "a = plt.axes(aspect='equal')\n",
        "plt.scatter(test_labels, test_predictions)\n",
        "plt.xlabel('True values (expenses)')\n",
        "plt.ylabel('Predictions (expenses)')\n",
        "lims = [0, 50000]\n",
        "plt.xlim(lims)\n",
        "plt.ylim(lims)\n",
        "_ = plt.plot(lims,lims)\n"
      ]
    }
  ],
  "metadata": {
    "colab": {
      "name": "fcc_predict_health_costs_with_regression.ipynb",
      "private_outputs": true,
      "provenance": []
    },
    "kernelspec": {
      "display_name": "Python 3",
      "name": "python3"
    }
  },
  "nbformat": 4,
  "nbformat_minor": 0
}